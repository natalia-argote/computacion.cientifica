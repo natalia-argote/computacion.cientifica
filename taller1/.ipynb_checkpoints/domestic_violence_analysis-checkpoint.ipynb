{
 "cells": [
  {
   "cell_type": "code",
   "execution_count": 1,
   "id": "82aae073",
   "metadata": {},
   "outputs": [],
   "source": [
    "import numpy as np\n",
    "import pandas as pd\n",
    "import matplotlib.pyplot as plt"
   ]
  },
  {
   "cell_type": "code",
   "execution_count": 7,
   "id": "20f679e4",
   "metadata": {},
   "outputs": [
    {
     "name": "stderr",
     "output_type": "stream",
     "text": [
      "C:\\Users\\Natalia\\AppData\\Local\\Temp\\ipykernel_10496\\66433937.py:2: DtypeWarning: Columns (2) have mixed types. Specify dtype option on import or set low_memory=False.\n",
      "  df = pd.read_csv(\"./Reporte_Delito_Violencia_Intrafamiliar.csv\")\n"
     ]
    }
   ],
   "source": [
    "# Cargar los csv como dataframe\n",
    "df = pd.read_csv(\"./Reporte_Delito_Violencia_Intrafamiliar.csv\")"
   ]
  },
  {
   "cell_type": "code",
   "execution_count": 8,
   "id": "f212b633",
   "metadata": {},
   "outputs": [
    {
     "data": {
      "text/plain": [
       "(510518, 8)"
      ]
     },
     "execution_count": 8,
     "metadata": {},
     "output_type": "execute_result"
    }
   ],
   "source": [
    "# Análsis de csv de violencia doméstica\n",
    "\n",
    "#Verificar las dimensiones del dataframe\n",
    "df.shape"
   ]
  },
  {
   "cell_type": "code",
   "execution_count": 9,
   "id": "11793c49",
   "metadata": {},
   "outputs": [
    {
     "data": {
      "text/plain": [
       "DEPARTAMENTO    object\n",
       "MUNICIPIO       object\n",
       "CODIGO DANE     object\n",
       "ARMAS MEDIOS    object\n",
       "FECHA HECHO     object\n",
       "GENERO          object\n",
       "GRUPO ETARIO    object\n",
       "CANTIDAD         int64\n",
       "dtype: object"
      ]
     },
     "execution_count": 9,
     "metadata": {},
     "output_type": "execute_result"
    }
   ],
   "source": [
    "# Verificar los tipos de datos de las columnas\n",
    "df.dtypes"
   ]
  },
  {
   "cell_type": "code",
   "execution_count": 10,
   "id": "d8e22ffe",
   "metadata": {},
   "outputs": [
    {
     "name": "stdout",
     "output_type": "stream",
     "text": [
      "Campos vacios en el dataframe: 1611\n"
     ]
    }
   ],
   "source": [
    "#Verificar cuantos valores nulos hay en el dataset\n",
    "check_null = df.isnull().sum().sum()\n",
    "print (\"Campos vacios en el dataframe: \"+str(check_null))"
   ]
  },
  {
   "cell_type": "code",
   "execution_count": 11,
   "id": "379d36a4",
   "metadata": {},
   "outputs": [
    {
     "data": {
      "text/html": [
       "<div>\n",
       "<style scoped>\n",
       "    .dataframe tbody tr th:only-of-type {\n",
       "        vertical-align: middle;\n",
       "    }\n",
       "\n",
       "    .dataframe tbody tr th {\n",
       "        vertical-align: top;\n",
       "    }\n",
       "\n",
       "    .dataframe thead th {\n",
       "        text-align: right;\n",
       "    }\n",
       "</style>\n",
       "<table border=\"1\" class=\"dataframe\">\n",
       "  <thead>\n",
       "    <tr style=\"text-align: right;\">\n",
       "      <th></th>\n",
       "      <th>DEPARTAMENTO</th>\n",
       "      <th>MUNICIPIO</th>\n",
       "      <th>CODIGO DANE</th>\n",
       "      <th>ARMAS MEDIOS</th>\n",
       "      <th>FECHA HECHO</th>\n",
       "      <th>GENERO</th>\n",
       "      <th>GRUPO ETARIO</th>\n",
       "      <th>CANTIDAD</th>\n",
       "    </tr>\n",
       "  </thead>\n",
       "  <tbody>\n",
       "    <tr>\n",
       "      <th>0</th>\n",
       "      <td>ATLÁNTICO</td>\n",
       "      <td>BARRANQUILLA (CT)</td>\n",
       "      <td>8001000</td>\n",
       "      <td>ARMA BLANCA / CORTOPUNZANTE</td>\n",
       "      <td>1/01/2010</td>\n",
       "      <td>MASCULINO</td>\n",
       "      <td>ADULTOS</td>\n",
       "      <td>1</td>\n",
       "    </tr>\n",
       "    <tr>\n",
       "      <th>1</th>\n",
       "      <td>BOYACÁ</td>\n",
       "      <td>DUITAMA</td>\n",
       "      <td>15238000</td>\n",
       "      <td>ARMA BLANCA / CORTOPUNZANTE</td>\n",
       "      <td>1/01/2010</td>\n",
       "      <td>FEMENINO</td>\n",
       "      <td>ADULTOS</td>\n",
       "      <td>1</td>\n",
       "    </tr>\n",
       "    <tr>\n",
       "      <th>2</th>\n",
       "      <td>CAQUETÁ</td>\n",
       "      <td>PUERTO RICO</td>\n",
       "      <td>18592000</td>\n",
       "      <td>ARMA BLANCA / CORTOPUNZANTE</td>\n",
       "      <td>1/01/2010</td>\n",
       "      <td>MASCULINO</td>\n",
       "      <td>ADULTOS</td>\n",
       "      <td>1</td>\n",
       "    </tr>\n",
       "    <tr>\n",
       "      <th>3</th>\n",
       "      <td>CASANARE</td>\n",
       "      <td>MANÍ</td>\n",
       "      <td>85139000</td>\n",
       "      <td>ARMA BLANCA / CORTOPUNZANTE</td>\n",
       "      <td>1/01/2010</td>\n",
       "      <td>FEMENINO</td>\n",
       "      <td>ADULTOS</td>\n",
       "      <td>1</td>\n",
       "    </tr>\n",
       "    <tr>\n",
       "      <th>4</th>\n",
       "      <td>CUNDINAMARCA</td>\n",
       "      <td>BOGOTÁ D.C. (CT)</td>\n",
       "      <td>11001000</td>\n",
       "      <td>ARMA BLANCA / CORTOPUNZANTE</td>\n",
       "      <td>1/01/2010</td>\n",
       "      <td>FEMENINO</td>\n",
       "      <td>ADULTOS</td>\n",
       "      <td>1</td>\n",
       "    </tr>\n",
       "    <tr>\n",
       "      <th>5</th>\n",
       "      <td>SUCRE</td>\n",
       "      <td>SINCELEJO (CT)</td>\n",
       "      <td>70001000</td>\n",
       "      <td>ARMA BLANCA / CORTOPUNZANTE</td>\n",
       "      <td>1/01/2010</td>\n",
       "      <td>FEMENINO</td>\n",
       "      <td>ADULTOS</td>\n",
       "      <td>1</td>\n",
       "    </tr>\n",
       "    <tr>\n",
       "      <th>6</th>\n",
       "      <td>VALLE</td>\n",
       "      <td>CALI (CT)</td>\n",
       "      <td>76001000</td>\n",
       "      <td>ARMA BLANCA / CORTOPUNZANTE</td>\n",
       "      <td>1/01/2010</td>\n",
       "      <td>FEMENINO</td>\n",
       "      <td>ADULTOS</td>\n",
       "      <td>2</td>\n",
       "    </tr>\n",
       "    <tr>\n",
       "      <th>7</th>\n",
       "      <td>VALLE</td>\n",
       "      <td>CALI (CT)</td>\n",
       "      <td>76001000</td>\n",
       "      <td>ARMA BLANCA / CORTOPUNZANTE</td>\n",
       "      <td>1/01/2010</td>\n",
       "      <td>MASCULINO</td>\n",
       "      <td>ADULTOS</td>\n",
       "      <td>2</td>\n",
       "    </tr>\n",
       "    <tr>\n",
       "      <th>8</th>\n",
       "      <td>VALLE</td>\n",
       "      <td>TULUÁ</td>\n",
       "      <td>76834000</td>\n",
       "      <td>ARMA BLANCA / CORTOPUNZANTE</td>\n",
       "      <td>1/01/2010</td>\n",
       "      <td>FEMENINO</td>\n",
       "      <td>ADULTOS</td>\n",
       "      <td>1</td>\n",
       "    </tr>\n",
       "    <tr>\n",
       "      <th>9</th>\n",
       "      <td>HUILA</td>\n",
       "      <td>PITALITO</td>\n",
       "      <td>41551000</td>\n",
       "      <td>ARMA DE FUEGO</td>\n",
       "      <td>1/01/2010</td>\n",
       "      <td>FEMENINO</td>\n",
       "      <td>ADULTOS</td>\n",
       "      <td>1</td>\n",
       "    </tr>\n",
       "  </tbody>\n",
       "</table>\n",
       "</div>"
      ],
      "text/plain": [
       "   DEPARTAMENTO          MUNICIPIO CODIGO DANE                 ARMAS MEDIOS  \\\n",
       "0     ATLÁNTICO  BARRANQUILLA (CT)     8001000  ARMA BLANCA / CORTOPUNZANTE   \n",
       "1        BOYACÁ            DUITAMA    15238000  ARMA BLANCA / CORTOPUNZANTE   \n",
       "2       CAQUETÁ        PUERTO RICO    18592000  ARMA BLANCA / CORTOPUNZANTE   \n",
       "3      CASANARE               MANÍ    85139000  ARMA BLANCA / CORTOPUNZANTE   \n",
       "4  CUNDINAMARCA   BOGOTÁ D.C. (CT)    11001000  ARMA BLANCA / CORTOPUNZANTE   \n",
       "5         SUCRE     SINCELEJO (CT)    70001000  ARMA BLANCA / CORTOPUNZANTE   \n",
       "6         VALLE          CALI (CT)    76001000  ARMA BLANCA / CORTOPUNZANTE   \n",
       "7         VALLE          CALI (CT)    76001000  ARMA BLANCA / CORTOPUNZANTE   \n",
       "8         VALLE              TULUÁ    76834000  ARMA BLANCA / CORTOPUNZANTE   \n",
       "9         HUILA           PITALITO    41551000                ARMA DE FUEGO   \n",
       "\n",
       "  FECHA HECHO     GENERO GRUPO ETARIO  CANTIDAD  \n",
       "0   1/01/2010  MASCULINO      ADULTOS         1  \n",
       "1   1/01/2010   FEMENINO      ADULTOS         1  \n",
       "2   1/01/2010  MASCULINO      ADULTOS         1  \n",
       "3   1/01/2010   FEMENINO      ADULTOS         1  \n",
       "4   1/01/2010   FEMENINO      ADULTOS         1  \n",
       "5   1/01/2010   FEMENINO      ADULTOS         1  \n",
       "6   1/01/2010   FEMENINO      ADULTOS         2  \n",
       "7   1/01/2010  MASCULINO      ADULTOS         2  \n",
       "8   1/01/2010   FEMENINO      ADULTOS         1  \n",
       "9   1/01/2010   FEMENINO      ADULTOS         1  "
      ]
     },
     "execution_count": 11,
     "metadata": {},
     "output_type": "execute_result"
    }
   ],
   "source": [
    "#Imprimir los 10 primeros registros\n",
    "df.head(10)"
   ]
  },
  {
   "cell_type": "code",
   "execution_count": 12,
   "id": "4ff40a6a",
   "metadata": {},
   "outputs": [
    {
     "data": {
      "text/html": [
       "<div>\n",
       "<style scoped>\n",
       "    .dataframe tbody tr th:only-of-type {\n",
       "        vertical-align: middle;\n",
       "    }\n",
       "\n",
       "    .dataframe tbody tr th {\n",
       "        vertical-align: top;\n",
       "    }\n",
       "\n",
       "    .dataframe thead th {\n",
       "        text-align: right;\n",
       "    }\n",
       "</style>\n",
       "<table border=\"1\" class=\"dataframe\">\n",
       "  <thead>\n",
       "    <tr style=\"text-align: right;\">\n",
       "      <th></th>\n",
       "      <th>DEPARTAMENTO</th>\n",
       "      <th>MUNICIPIO</th>\n",
       "      <th>ARMAS MEDIOS</th>\n",
       "      <th>FECHA HECHO</th>\n",
       "      <th>GENERO</th>\n",
       "      <th>GRUPO ETARIO</th>\n",
       "      <th>CANTIDAD</th>\n",
       "    </tr>\n",
       "  </thead>\n",
       "  <tbody>\n",
       "    <tr>\n",
       "      <th>0</th>\n",
       "      <td>ATLÁNTICO</td>\n",
       "      <td>BARRANQUILLA (CT)</td>\n",
       "      <td>ARMA BLANCA / CORTOPUNZANTE</td>\n",
       "      <td>1/01/2010</td>\n",
       "      <td>MASCULINO</td>\n",
       "      <td>ADULTOS</td>\n",
       "      <td>1</td>\n",
       "    </tr>\n",
       "    <tr>\n",
       "      <th>1</th>\n",
       "      <td>BOYACÁ</td>\n",
       "      <td>DUITAMA</td>\n",
       "      <td>ARMA BLANCA / CORTOPUNZANTE</td>\n",
       "      <td>1/01/2010</td>\n",
       "      <td>FEMENINO</td>\n",
       "      <td>ADULTOS</td>\n",
       "      <td>1</td>\n",
       "    </tr>\n",
       "    <tr>\n",
       "      <th>2</th>\n",
       "      <td>CAQUETÁ</td>\n",
       "      <td>PUERTO RICO</td>\n",
       "      <td>ARMA BLANCA / CORTOPUNZANTE</td>\n",
       "      <td>1/01/2010</td>\n",
       "      <td>MASCULINO</td>\n",
       "      <td>ADULTOS</td>\n",
       "      <td>1</td>\n",
       "    </tr>\n",
       "    <tr>\n",
       "      <th>3</th>\n",
       "      <td>CASANARE</td>\n",
       "      <td>MANÍ</td>\n",
       "      <td>ARMA BLANCA / CORTOPUNZANTE</td>\n",
       "      <td>1/01/2010</td>\n",
       "      <td>FEMENINO</td>\n",
       "      <td>ADULTOS</td>\n",
       "      <td>1</td>\n",
       "    </tr>\n",
       "    <tr>\n",
       "      <th>4</th>\n",
       "      <td>CUNDINAMARCA</td>\n",
       "      <td>BOGOTÁ D.C. (CT)</td>\n",
       "      <td>ARMA BLANCA / CORTOPUNZANTE</td>\n",
       "      <td>1/01/2010</td>\n",
       "      <td>FEMENINO</td>\n",
       "      <td>ADULTOS</td>\n",
       "      <td>1</td>\n",
       "    </tr>\n",
       "    <tr>\n",
       "      <th>5</th>\n",
       "      <td>SUCRE</td>\n",
       "      <td>SINCELEJO (CT)</td>\n",
       "      <td>ARMA BLANCA / CORTOPUNZANTE</td>\n",
       "      <td>1/01/2010</td>\n",
       "      <td>FEMENINO</td>\n",
       "      <td>ADULTOS</td>\n",
       "      <td>1</td>\n",
       "    </tr>\n",
       "    <tr>\n",
       "      <th>6</th>\n",
       "      <td>VALLE</td>\n",
       "      <td>CALI (CT)</td>\n",
       "      <td>ARMA BLANCA / CORTOPUNZANTE</td>\n",
       "      <td>1/01/2010</td>\n",
       "      <td>FEMENINO</td>\n",
       "      <td>ADULTOS</td>\n",
       "      <td>2</td>\n",
       "    </tr>\n",
       "    <tr>\n",
       "      <th>7</th>\n",
       "      <td>VALLE</td>\n",
       "      <td>CALI (CT)</td>\n",
       "      <td>ARMA BLANCA / CORTOPUNZANTE</td>\n",
       "      <td>1/01/2010</td>\n",
       "      <td>MASCULINO</td>\n",
       "      <td>ADULTOS</td>\n",
       "      <td>2</td>\n",
       "    </tr>\n",
       "    <tr>\n",
       "      <th>8</th>\n",
       "      <td>VALLE</td>\n",
       "      <td>TULUÁ</td>\n",
       "      <td>ARMA BLANCA / CORTOPUNZANTE</td>\n",
       "      <td>1/01/2010</td>\n",
       "      <td>FEMENINO</td>\n",
       "      <td>ADULTOS</td>\n",
       "      <td>1</td>\n",
       "    </tr>\n",
       "    <tr>\n",
       "      <th>9</th>\n",
       "      <td>HUILA</td>\n",
       "      <td>PITALITO</td>\n",
       "      <td>ARMA DE FUEGO</td>\n",
       "      <td>1/01/2010</td>\n",
       "      <td>FEMENINO</td>\n",
       "      <td>ADULTOS</td>\n",
       "      <td>1</td>\n",
       "    </tr>\n",
       "  </tbody>\n",
       "</table>\n",
       "</div>"
      ],
      "text/plain": [
       "   DEPARTAMENTO          MUNICIPIO                 ARMAS MEDIOS FECHA HECHO  \\\n",
       "0     ATLÁNTICO  BARRANQUILLA (CT)  ARMA BLANCA / CORTOPUNZANTE   1/01/2010   \n",
       "1        BOYACÁ            DUITAMA  ARMA BLANCA / CORTOPUNZANTE   1/01/2010   \n",
       "2       CAQUETÁ        PUERTO RICO  ARMA BLANCA / CORTOPUNZANTE   1/01/2010   \n",
       "3      CASANARE               MANÍ  ARMA BLANCA / CORTOPUNZANTE   1/01/2010   \n",
       "4  CUNDINAMARCA   BOGOTÁ D.C. (CT)  ARMA BLANCA / CORTOPUNZANTE   1/01/2010   \n",
       "5         SUCRE     SINCELEJO (CT)  ARMA BLANCA / CORTOPUNZANTE   1/01/2010   \n",
       "6         VALLE          CALI (CT)  ARMA BLANCA / CORTOPUNZANTE   1/01/2010   \n",
       "7         VALLE          CALI (CT)  ARMA BLANCA / CORTOPUNZANTE   1/01/2010   \n",
       "8         VALLE              TULUÁ  ARMA BLANCA / CORTOPUNZANTE   1/01/2010   \n",
       "9         HUILA           PITALITO                ARMA DE FUEGO   1/01/2010   \n",
       "\n",
       "      GENERO GRUPO ETARIO  CANTIDAD  \n",
       "0  MASCULINO      ADULTOS         1  \n",
       "1   FEMENINO      ADULTOS         1  \n",
       "2  MASCULINO      ADULTOS         1  \n",
       "3   FEMENINO      ADULTOS         1  \n",
       "4   FEMENINO      ADULTOS         1  \n",
       "5   FEMENINO      ADULTOS         1  \n",
       "6   FEMENINO      ADULTOS         2  \n",
       "7  MASCULINO      ADULTOS         2  \n",
       "8   FEMENINO      ADULTOS         1  \n",
       "9   FEMENINO      ADULTOS         1  "
      ]
     },
     "execution_count": 12,
     "metadata": {},
     "output_type": "execute_result"
    }
   ],
   "source": [
    "#Eliminar la columna \"Codigo dane\" pues no me está aportando información sobre los datos\n",
    "df.drop('CODIGO DANE', axis=1, inplace=True)\n",
    "df.head(10)"
   ]
  },
  {
   "cell_type": "code",
   "execution_count": 13,
   "id": "a8e413d6",
   "metadata": {},
   "outputs": [
    {
     "data": {
      "text/plain": [
       "DEPARTAMENTO            object\n",
       "MUNICIPIO               object\n",
       "ARMAS MEDIOS            object\n",
       "FECHA HECHO     datetime64[ns]\n",
       "GENERO                  object\n",
       "GRUPO ETARIO            object\n",
       "CANTIDAD                 int64\n",
       "dtype: object"
      ]
     },
     "execution_count": 13,
     "metadata": {},
     "output_type": "execute_result"
    }
   ],
   "source": [
    "# Convertir el tipo de dato de la columna \"Fecha hecho\" a datetime\n",
    "df['FECHA HECHO'] = pd.to_datetime(df['FECHA HECHO'],  format=\"%d/%m/%Y\")\n",
    "df.dtypes"
   ]
  },
  {
   "cell_type": "code",
   "execution_count": 15,
   "id": "9f90e736",
   "metadata": {},
   "outputs": [
    {
     "name": "stdout",
     "output_type": "stream",
     "text": [
      "                    DEPARTAMENTO\n",
      "CUNDINAMARCA               93442\n",
      "ANTIOQUIA                  61976\n",
      "VALLE                      47884\n",
      "SANTANDER                  40790\n",
      "BOYACÁ                     28723\n",
      "ATLÁNTICO                  18732\n",
      "TOLIMA                     18393\n",
      "HUILA                      17906\n",
      "META                       17429\n",
      "BOLÍVAR                    16940\n",
      "NORTE DE SANTANDER         15833\n",
      "NARIÑO                     15397\n",
      "RISARALDA                  15370\n",
      "CAUCA                      15118\n",
      "CÓRDOBA                    11727\n",
      "SUCRE                      10422\n",
      "MAGDALENA                  10365\n",
      "CALDAS                      9509\n",
      "CESAR                       7970\n",
      "CASANARE                    6783\n",
      "QUINDÍO                     5168\n",
      "CAQUETÁ                     5160\n",
      "GUAJIRA                     4717\n",
      "ARAUCA                      4028\n",
      "PUTUMAYO                    3349\n",
      "CHOCÓ                       2237\n",
      "AMAZONAS                    1451\n",
      "SAN ANDRÉS                  1254\n",
      "GUAVIARE                     995\n",
      "GUAINÍA                      560\n",
      "VICHADA                      455\n",
      "VAUPÉS                       429\n",
      "NO REPORTA                     6\n",
      "Departamento con mayor frecuencia de violencia doméstica: DEPARTAMENTO    CUNDINAMARCA\n",
      "dtype: object\n",
      "Departamento con menor frecuencia de violencia doméstica: DEPARTAMENTO    NO REPORTA\n",
      "dtype: object\n"
     ]
    },
    {
     "data": {
      "text/plain": [
       "<AxesSubplot:>"
      ]
     },
     "execution_count": 15,
     "metadata": {},
     "output_type": "execute_result"
    },
    {
     "data": {
      "image/png": "[encoded data removed]",
      "text/plain": [
       "<Figure size 432x288 with 1 Axes>"
      ]
     },
     "metadata": {
      "needs_background": "light"
     },
     "output_type": "display_data"
    }
   ],
   "source": [
    "# Análisis cualitativo de la columna departamento\n",
    "\n",
    "# Frecuencia absoluta de cada departamento\n",
    "department_frecuency = df[\"DEPARTAMENTO\"].value_counts().to_frame()\n",
    "print(department_frecuency)\n",
    "print(\"Departamento con mayor frecuencia de violencia doméstica: \" +str(department_frecuency.idxmax(axis = 0)))\n",
    "print(\"Departamento con menor frecuencia de violencia doméstica: \" +str(department_frecuency.idxmin(axis = 0)))\n",
    "\n",
    "#Imprimir gráfico de barras\n",
    "df[\"DEPARTAMENTO\"].value_counts().plot(kind = \"bar\")"
   ]
  },
  {
   "cell_type": "code",
   "execution_count": 16,
   "id": "15864bc8",
   "metadata": {},
   "outputs": [
    {
     "name": "stdout",
     "output_type": "stream",
     "text": [
      "media: 2017-08-02\n",
      "fecha más reciente: 2010-01-01\n",
      "fecha más antigua: 2021-12-31\n"
     ]
    },
    {
     "data": {
      "image/png": "[encoded data removed]",
      "text/plain": [
       "<Figure size 432x288 with 1 Axes>"
      ]
     },
     "metadata": {
      "needs_background": "light"
     },
     "output_type": "display_data"
    },
    {
     "name": "stdout",
     "output_type": "stream",
     "text": [
      "Desviación estandar :1127 days 00:10:02.931111120\n"
     ]
    }
   ],
   "source": [
    "# Análisis cuantitativo de la columna fecha del hecho\n",
    "date_col = df[\"FECHA HECHO\"]\n",
    "mean = np.mean(date_col)\n",
    "print(\"media: \" + str(mean.date()))\n",
    "minimum = np.min(date_col)\n",
    "print(\"fecha más reciente: \" + str(minimum.date()))\n",
    "maximum = np.max(date_col)\n",
    "print(\"fecha más antigua: \" + str(maximum.date()))\n",
    "\n",
    "#Histograma por fecha de hecho\n",
    "plt.hist(date_col)\n",
    "plt.show()\n",
    "\n",
    "std_deviation = np.std(date_col)\n",
    "print(\"Desviación estandar :\" +str(std_deviation))"
   ]
  },
  {
   "cell_type": "code",
   "execution_count": 17,
   "id": "2da5fcf1",
   "metadata": {},
   "outputs": [
    {
     "name": "stdout",
     "output_type": "stream",
     "text": [
      "              GENERO\n",
      "FEMENINO      391255\n",
      "MASCULINO     118929\n",
      "NO REPORTA       294\n",
      "NO REPORTADO      33\n",
      "-                  7\n"
     ]
    },
    {
     "data": {
      "text/plain": [
       "array([<AxesSubplot:ylabel='GENERO'>], dtype=object)"
      ]
     },
     "execution_count": 17,
     "metadata": {},
     "output_type": "execute_result"
    },
    {
     "data": {
      "image/png": "[encoded data removed]",
      "text/plain": [
       "<Figure size 360x360 with 1 Axes>"
      ]
     },
     "metadata": {},
     "output_type": "display_data"
    }
   ],
   "source": [
    "# Análisis cualitativo de la columna Género\n",
    "\n",
    "# Frecuencia absoluta de cada genero\n",
    "gender_abs_frec = df[\"GENERO\"].value_counts().to_frame()\n",
    "print(gender_abs_frec)\n",
    "\n",
    "#Gráfica circular\n",
    "gender_abs_frec.plot.pie(subplots=True, figsize=(5, 5), autopct='%1.1f%%')"
   ]
  },
  {
   "cell_type": "code",
   "execution_count": 21,
   "id": "8e2c0e85",
   "metadata": {},
   "outputs": [
    {
     "name": "stdout",
     "output_type": "stream",
     "text": [
      "              GRUPO ETARIO\n",
      "ADULTOS             448776\n",
      "ADOLESCENTES         30720\n",
      "MENORES              29103\n",
      "NO REPORTA             274\n",
      "NO REPORTADO            34\n"
     ]
    },
    {
     "data": {
      "text/plain": [
       "<AxesSubplot:>"
      ]
     },
     "execution_count": 21,
     "metadata": {},
     "output_type": "execute_result"
    },
    {
     "data": {
      "image/png": "[encoded data removed]",
      "text/plain": [
       "<Figure size 432x288 with 1 Axes>"
      ]
     },
     "metadata": {
      "needs_background": "light"
     },
     "output_type": "display_data"
    }
   ],
   "source": [
    "# Análisis cualitativo de grupo etario\n",
    "\n",
    "# Frecuencia absoluta de cada grupo dentro de la población\n",
    "\n",
    "group_frecuency = df[\"GRUPO ETARIO\"].value_counts().to_frame()\n",
    "print(group_frecuency)\n",
    "\n",
    "#Imprimir gráfico de barras\n",
    "df[\"GRUPO ETARIO\"].value_counts().plot(kind = \"bar\")"
   ]
  },
  {
   "cell_type": "code",
   "execution_count": 22,
   "id": "47f9fd6c",
   "metadata": {},
   "outputs": [
    {
     "name": "stdout",
     "output_type": "stream",
     "text": [
      "                             ARMAS MEDIOS\n",
      "CONTUNDENTES                       257169\n",
      "SIN EMPLEO DE ARMAS                128916\n",
      "NO REPORTADO                        71924\n",
      "ARMA BLANCA / CORTOPUNZANTE         39135\n",
      "NO REPORTA                           4421\n",
      "ESCOPOLAMINA                         3863\n",
      "ARMA DE FUEGO                        2450\n",
      "CORTOPUNZANTES                       1167\n",
      "CORTANTES                            1138\n",
      "PUNZANTES                             334\n",
      "-                                       1\n"
     ]
    },
    {
     "data": {
      "text/plain": [
       "<AxesSubplot:>"
      ]
     },
     "execution_count": 22,
     "metadata": {},
     "output_type": "execute_result"
    },
    {
     "data": {
      "image/png": "[encoded data removed]",
      "text/plain": [
       "<Figure size 432x288 with 1 Axes>"
      ]
     },
     "metadata": {
      "needs_background": "light"
     },
     "output_type": "display_data"
    }
   ],
   "source": [
    "# Análisis cualitativo de la columna Armas medios\n",
    "\n",
    "# Frecuencia absoluta de cada genero\n",
    "weap_abs_frec = df[\"ARMAS MEDIOS\"].value_counts().to_frame()\n",
    "print(weap_abs_frec)\n",
    "\n",
    "#Imprimir gráfico de barras\n",
    "df[\"ARMAS MEDIOS\"].value_counts().plot(kind = \"bar\")"
   ]
  },
  {
   "cell_type": "code",
   "execution_count": 23,
   "id": "744a618a",
   "metadata": {},
   "outputs": [
    {
     "name": "stdout",
     "output_type": "stream",
     "text": [
      "              DEPARTAMENTO\n",
      "CUNDINAMARCA         93442\n",
      "ANTIOQUIA            61976\n",
      "VALLE                47884\n"
     ]
    }
   ],
   "source": [
    "#¿Cuáles han sido los departamentos (TOP 3) más afectados a nivel histórico y en el último año?\n",
    "\n",
    "#Top 3 a nivel histórico\n",
    "department_frecuency = df[\"DEPARTAMENTO\"].value_counts().to_frame()\n",
    "print(department_frecuency.head(3))\n",
    "\n",
    "#Agregar una nueva columna con el año del hecho\n",
    "df['AÑO'] = pd.DatetimeIndex(df['FECHA HECHO']).year\n",
    "#Filtrar registros por año\n",
    "df_last_year = df[df.AÑO == 2021]\n",
    "#Agrupar departamentos por año y ordenarlos de mayor a menor\n",
    "top_by_year = df_last_year.groupby(['DEPARTAMENTO','AÑO']).sum().sort_values('CANTIDAD',ascending=False)\n",
    "\n",
    "#Top 3 en 2021\n",
    "print(top_by_year.head(3))\n",
    "\n",
    "#Los depertamentos en los que más se han presentado violencia doméstica son Cundinamarca, Antioquia y Valle"
   ]
  },
  {
   "cell_type": "code",
   "execution_count": 25,
   "id": "d72dce23",
   "metadata": {},
   "outputs": [
    {
     "name": "stdout",
     "output_type": "stream",
     "text": [
      "                     ARMAS MEDIOS\n",
      "CONTUNDENTES               257169\n",
      "SIN EMPLEO DE ARMAS        128916\n"
     ]
    }
   ],
   "source": [
    "#Para los casos en los que se disponga del detalle del delito o de una descripción, \n",
    "#como por ejemplo en delitos sexuales y secuestro, ¿cuáles son los delitos, descripciones o modalidades más comunes?\n",
    "\n",
    "#Modalidades más usadas\n",
    "print(weap_abs_frec.head(2))"
   ]
  },
  {
   "cell_type": "code",
   "execution_count": 26,
   "id": "e2594e3f",
   "metadata": {},
   "outputs": [
    {
     "data": {
      "text/plain": [
       "array([<AxesSubplot:ylabel='GRUPO ETARIO'>], dtype=object)"
      ]
     },
     "execution_count": 26,
     "metadata": {},
     "output_type": "execute_result"
    },
    {
     "data": {
      "image/png": "[encoded data removed]",
      "text/plain": [
       "<Figure size 360x360 with 1 Axes>"
      ]
     },
     "metadata": {},
     "output_type": "display_data"
    },
    {
     "data": {
      "image/png": "[encoded data removed]",
      "text/plain": [
       "<Figure size 360x360 with 1 Axes>"
      ]
     },
     "metadata": {},
     "output_type": "display_data"
    }
   ],
   "source": [
    "#¿Cómo es la proporción de géneros y grupos etarios que han estado involucrados en este tipo de delito? \n",
    "#¿Han variado con el paso de los años?\n",
    "\n",
    "gender_abs_frec.plot.pie(subplots=True, figsize=(5, 5), autopct='%1.1f%%')\n",
    "group_frecuency.plot.pie(subplots=True, figsize=(5, 5), autopct='%1.1f%%')"
   ]
  },
  {
   "cell_type": "code",
   "execution_count": null,
   "id": "865d4b9d",
   "metadata": {},
   "outputs": [],
   "source": []
  }
 ],
 "metadata": {
  "kernelspec": {
   "display_name": "Python 3 (ipykernel)",
   "language": "python",
   "name": "python3"
  },
  "language_info": {
   "codemirror_mode": {
    "name": "ipython",
    "version": 3
   },
   "file_extension": ".py",
   "mimetype": "text/x-python",
   "name": "python",
   "nbconvert_exporter": "python",
   "pygments_lexer": "ipython3",
   "version": "3.10.2"
  }
 },
 "nbformat": 4,
 "nbformat_minor": 5
}
