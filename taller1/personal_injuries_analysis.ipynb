{
 "cells": [
  {
   "cell_type": "code",
   "execution_count": 2,
   "id": "98b246b3",
   "metadata": {},
   "outputs": [],
   "source": [
    "import numpy as np\n",
    "import pandas as pd\n",
    "import matplotlib.pyplot as plt"
   ]
  },
  {
   "cell_type": "code",
   "execution_count": 22,
   "id": "dac642d9",
   "metadata": {},
   "outputs": [
    {
     "name": "stderr",
     "output_type": "stream",
     "text": [
      "C:\\Users\\Natalia\\AppData\\Local\\Temp\\ipykernel_9724\\174418120.py:2: DtypeWarning: Columns (2,5,6) have mixed types. Specify dtype option on import or set low_memory=False.\n",
      "  df = pd.read_csv(\"./Reporte_Lesiones_Personales_y_en_Accidente_de_Transito.csv\")\n"
     ]
    }
   ],
   "source": [
    "# Cargar los csv como dataframe\n",
    "df = pd.read_csv(\"./Reporte_Lesiones_Personales_y_en_Accidente_de_Transito.csv\")"
   ]
  },
  {
   "cell_type": "code",
   "execution_count": 23,
   "id": "46a2cc72",
   "metadata": {},
   "outputs": [
    {
     "data": {
      "text/plain": [
       "(1003242, 9)"
      ]
     },
     "execution_count": 23,
     "metadata": {},
     "output_type": "execute_result"
    }
   ],
   "source": [
    "# Análsis de csv de lesiones personales\n",
    "\n",
    "#Verificar las dimensiones del dataframe\n",
    "df.shape"
   ]
  },
  {
   "cell_type": "code",
   "execution_count": 24,
   "id": "9398adcd",
   "metadata": {},
   "outputs": [
    {
     "data": {
      "text/plain": [
       "DEPARTAMENTO            object\n",
       "MUNICIPIO               object\n",
       "CODIGO DANE             object\n",
       "ARMAS MEDIOS            object\n",
       "FECHA HECHO             object\n",
       "GENERO                  object\n",
       "GRUPO ETARIO            object\n",
       "DESCRIPCIÓN CONDUCTA    object\n",
       "CANTIDAD                 int64\n",
       "dtype: object"
      ]
     },
     "execution_count": 24,
     "metadata": {},
     "output_type": "execute_result"
    }
   ],
   "source": [
    "# Verificar los tipos de datos de las columnas\n",
    "df.dtypes"
   ]
  },
  {
   "cell_type": "code",
   "execution_count": 25,
   "id": "33292a86",
   "metadata": {},
   "outputs": [
    {
     "name": "stdout",
     "output_type": "stream",
     "text": [
      "Campos vacios en el dataframe: 114642\n"
     ]
    }
   ],
   "source": [
    "#Verificar cuantos valores nulos hay en el dataset\n",
    "check_null = df.isnull().sum().sum()\n",
    "print (\"Campos vacios en el dataframe: \"+str(check_null))"
   ]
  },
  {
   "cell_type": "code",
   "execution_count": 14,
   "id": "040f09e8",
   "metadata": {},
   "outputs": [
    {
     "data": {
      "text/html": [
       "<div>\n",
       "<style scoped>\n",
       "    .dataframe tbody tr th:only-of-type {\n",
       "        vertical-align: middle;\n",
       "    }\n",
       "\n",
       "    .dataframe tbody tr th {\n",
       "        vertical-align: top;\n",
       "    }\n",
       "\n",
       "    .dataframe thead th {\n",
       "        text-align: right;\n",
       "    }\n",
       "</style>\n",
       "<table border=\"1\" class=\"dataframe\">\n",
       "  <thead>\n",
       "    <tr style=\"text-align: right;\">\n",
       "      <th></th>\n",
       "      <th>DEPARTAMENTO</th>\n",
       "      <th>MUNICIPIO</th>\n",
       "      <th>ARMAS MEDIOS</th>\n",
       "      <th>FECHA HECHO</th>\n",
       "      <th>GENERO</th>\n",
       "      <th>GRUPO ETARIO</th>\n",
       "      <th>DESCRIPCIÓN CONDUCTA</th>\n",
       "      <th>CANTIDAD</th>\n",
       "    </tr>\n",
       "  </thead>\n",
       "  <tbody>\n",
       "    <tr>\n",
       "      <th>0</th>\n",
       "      <td>ANTIOQUIA</td>\n",
       "      <td>GIRARDOTA</td>\n",
       "      <td>ARMA BLANCA / CORTOPUNZANTE</td>\n",
       "      <td>1/01/2010</td>\n",
       "      <td>FEMENINO</td>\n",
       "      <td>ADULTOS</td>\n",
       "      <td>LESIONES PERSONALES</td>\n",
       "      <td>2</td>\n",
       "    </tr>\n",
       "    <tr>\n",
       "      <th>1</th>\n",
       "      <td>ANTIOQUIA</td>\n",
       "      <td>GIRARDOTA</td>\n",
       "      <td>ARMA BLANCA / CORTOPUNZANTE</td>\n",
       "      <td>1/01/2010</td>\n",
       "      <td>MASCULINO</td>\n",
       "      <td>ADULTOS</td>\n",
       "      <td>LESIONES PERSONALES</td>\n",
       "      <td>1</td>\n",
       "    </tr>\n",
       "    <tr>\n",
       "      <th>2</th>\n",
       "      <td>ANTIOQUIA</td>\n",
       "      <td>MUTATÁ</td>\n",
       "      <td>ARMA BLANCA / CORTOPUNZANTE</td>\n",
       "      <td>1/01/2010</td>\n",
       "      <td>MASCULINO</td>\n",
       "      <td>ADULTOS</td>\n",
       "      <td>LESIONES PERSONALES</td>\n",
       "      <td>1</td>\n",
       "    </tr>\n",
       "    <tr>\n",
       "      <th>3</th>\n",
       "      <td>ANTIOQUIA</td>\n",
       "      <td>NECOCLÍ</td>\n",
       "      <td>ARMA BLANCA / CORTOPUNZANTE</td>\n",
       "      <td>1/01/2010</td>\n",
       "      <td>FEMENINO</td>\n",
       "      <td>ADULTOS</td>\n",
       "      <td>LESIONES PERSONALES</td>\n",
       "      <td>1</td>\n",
       "    </tr>\n",
       "    <tr>\n",
       "      <th>4</th>\n",
       "      <td>ATLÁNTICO</td>\n",
       "      <td>BARRANQUILLA (CT)</td>\n",
       "      <td>ARMA BLANCA / CORTOPUNZANTE</td>\n",
       "      <td>1/01/2010</td>\n",
       "      <td>FEMENINO</td>\n",
       "      <td>ADULTOS</td>\n",
       "      <td>LESIONES PERSONALES</td>\n",
       "      <td>2</td>\n",
       "    </tr>\n",
       "    <tr>\n",
       "      <th>5</th>\n",
       "      <td>ATLÁNTICO</td>\n",
       "      <td>BARRANQUILLA (CT)</td>\n",
       "      <td>ARMA BLANCA / CORTOPUNZANTE</td>\n",
       "      <td>1/01/2010</td>\n",
       "      <td>MASCULINO</td>\n",
       "      <td>ADULTOS</td>\n",
       "      <td>LESIONES PERSONALES</td>\n",
       "      <td>5</td>\n",
       "    </tr>\n",
       "    <tr>\n",
       "      <th>6</th>\n",
       "      <td>ATLÁNTICO</td>\n",
       "      <td>GALAPA</td>\n",
       "      <td>ARMA BLANCA / CORTOPUNZANTE</td>\n",
       "      <td>1/01/2010</td>\n",
       "      <td>MASCULINO</td>\n",
       "      <td>ADULTOS</td>\n",
       "      <td>LESIONES PERSONALES</td>\n",
       "      <td>3</td>\n",
       "    </tr>\n",
       "    <tr>\n",
       "      <th>7</th>\n",
       "      <td>ATLÁNTICO</td>\n",
       "      <td>SOLEDAD</td>\n",
       "      <td>ARMA BLANCA / CORTOPUNZANTE</td>\n",
       "      <td>1/01/2010</td>\n",
       "      <td>MASCULINO</td>\n",
       "      <td>ADULTOS</td>\n",
       "      <td>LESIONES PERSONALES</td>\n",
       "      <td>1</td>\n",
       "    </tr>\n",
       "    <tr>\n",
       "      <th>8</th>\n",
       "      <td>BOLÍVAR</td>\n",
       "      <td>CARTAGENA (CT)</td>\n",
       "      <td>ARMA BLANCA / CORTOPUNZANTE</td>\n",
       "      <td>1/01/2010</td>\n",
       "      <td>MASCULINO</td>\n",
       "      <td>ADULTOS</td>\n",
       "      <td>LESIONES PERSONALES</td>\n",
       "      <td>4</td>\n",
       "    </tr>\n",
       "    <tr>\n",
       "      <th>9</th>\n",
       "      <td>BOYACÁ</td>\n",
       "      <td>SANTANA</td>\n",
       "      <td>ARMA BLANCA / CORTOPUNZANTE</td>\n",
       "      <td>1/01/2010</td>\n",
       "      <td>MASCULINO</td>\n",
       "      <td>ADULTOS</td>\n",
       "      <td>LESIONES PERSONALES</td>\n",
       "      <td>1</td>\n",
       "    </tr>\n",
       "  </tbody>\n",
       "</table>\n",
       "</div>"
      ],
      "text/plain": [
       "  DEPARTAMENTO          MUNICIPIO                 ARMAS MEDIOS FECHA HECHO  \\\n",
       "0    ANTIOQUIA          GIRARDOTA  ARMA BLANCA / CORTOPUNZANTE   1/01/2010   \n",
       "1    ANTIOQUIA          GIRARDOTA  ARMA BLANCA / CORTOPUNZANTE   1/01/2010   \n",
       "2    ANTIOQUIA             MUTATÁ  ARMA BLANCA / CORTOPUNZANTE   1/01/2010   \n",
       "3    ANTIOQUIA            NECOCLÍ  ARMA BLANCA / CORTOPUNZANTE   1/01/2010   \n",
       "4    ATLÁNTICO  BARRANQUILLA (CT)  ARMA BLANCA / CORTOPUNZANTE   1/01/2010   \n",
       "5    ATLÁNTICO  BARRANQUILLA (CT)  ARMA BLANCA / CORTOPUNZANTE   1/01/2010   \n",
       "6    ATLÁNTICO             GALAPA  ARMA BLANCA / CORTOPUNZANTE   1/01/2010   \n",
       "7    ATLÁNTICO            SOLEDAD  ARMA BLANCA / CORTOPUNZANTE   1/01/2010   \n",
       "8      BOLÍVAR     CARTAGENA (CT)  ARMA BLANCA / CORTOPUNZANTE   1/01/2010   \n",
       "9       BOYACÁ            SANTANA  ARMA BLANCA / CORTOPUNZANTE   1/01/2010   \n",
       "\n",
       "      GENERO GRUPO ETARIO DESCRIPCIÓN CONDUCTA  CANTIDAD  \n",
       "0   FEMENINO      ADULTOS  LESIONES PERSONALES         2  \n",
       "1  MASCULINO      ADULTOS  LESIONES PERSONALES         1  \n",
       "2  MASCULINO      ADULTOS  LESIONES PERSONALES         1  \n",
       "3   FEMENINO      ADULTOS  LESIONES PERSONALES         1  \n",
       "4   FEMENINO      ADULTOS  LESIONES PERSONALES         2  \n",
       "5  MASCULINO      ADULTOS  LESIONES PERSONALES         5  \n",
       "6  MASCULINO      ADULTOS  LESIONES PERSONALES         3  \n",
       "7  MASCULINO      ADULTOS  LESIONES PERSONALES         1  \n",
       "8  MASCULINO      ADULTOS  LESIONES PERSONALES         4  \n",
       "9  MASCULINO      ADULTOS  LESIONES PERSONALES         1  "
      ]
     },
     "execution_count": 14,
     "metadata": {},
     "output_type": "execute_result"
    }
   ],
   "source": [
    "#Imprimir los 10 primeros registros\n",
    "df.head(10)"
   ]
  },
  {
   "cell_type": "code",
   "execution_count": 26,
   "id": "8a881fba",
   "metadata": {},
   "outputs": [
    {
     "data": {
      "text/html": [
       "<div>\n",
       "<style scoped>\n",
       "    .dataframe tbody tr th:only-of-type {\n",
       "        vertical-align: middle;\n",
       "    }\n",
       "\n",
       "    .dataframe tbody tr th {\n",
       "        vertical-align: top;\n",
       "    }\n",
       "\n",
       "    .dataframe thead th {\n",
       "        text-align: right;\n",
       "    }\n",
       "</style>\n",
       "<table border=\"1\" class=\"dataframe\">\n",
       "  <thead>\n",
       "    <tr style=\"text-align: right;\">\n",
       "      <th></th>\n",
       "      <th>DEPARTAMENTO</th>\n",
       "      <th>MUNICIPIO</th>\n",
       "      <th>ARMAS MEDIOS</th>\n",
       "      <th>FECHA HECHO</th>\n",
       "      <th>GENERO</th>\n",
       "      <th>GRUPO ETARIO</th>\n",
       "      <th>DESCRIPCIÓN CONDUCTA</th>\n",
       "      <th>CANTIDAD</th>\n",
       "    </tr>\n",
       "  </thead>\n",
       "  <tbody>\n",
       "    <tr>\n",
       "      <th>0</th>\n",
       "      <td>ANTIOQUIA</td>\n",
       "      <td>GIRARDOTA</td>\n",
       "      <td>ARMA BLANCA / CORTOPUNZANTE</td>\n",
       "      <td>1/01/2010</td>\n",
       "      <td>FEMENINO</td>\n",
       "      <td>ADULTOS</td>\n",
       "      <td>LESIONES PERSONALES</td>\n",
       "      <td>2</td>\n",
       "    </tr>\n",
       "    <tr>\n",
       "      <th>1</th>\n",
       "      <td>ANTIOQUIA</td>\n",
       "      <td>GIRARDOTA</td>\n",
       "      <td>ARMA BLANCA / CORTOPUNZANTE</td>\n",
       "      <td>1/01/2010</td>\n",
       "      <td>MASCULINO</td>\n",
       "      <td>ADULTOS</td>\n",
       "      <td>LESIONES PERSONALES</td>\n",
       "      <td>1</td>\n",
       "    </tr>\n",
       "    <tr>\n",
       "      <th>2</th>\n",
       "      <td>ANTIOQUIA</td>\n",
       "      <td>MUTATÁ</td>\n",
       "      <td>ARMA BLANCA / CORTOPUNZANTE</td>\n",
       "      <td>1/01/2010</td>\n",
       "      <td>MASCULINO</td>\n",
       "      <td>ADULTOS</td>\n",
       "      <td>LESIONES PERSONALES</td>\n",
       "      <td>1</td>\n",
       "    </tr>\n",
       "    <tr>\n",
       "      <th>3</th>\n",
       "      <td>ANTIOQUIA</td>\n",
       "      <td>NECOCLÍ</td>\n",
       "      <td>ARMA BLANCA / CORTOPUNZANTE</td>\n",
       "      <td>1/01/2010</td>\n",
       "      <td>FEMENINO</td>\n",
       "      <td>ADULTOS</td>\n",
       "      <td>LESIONES PERSONALES</td>\n",
       "      <td>1</td>\n",
       "    </tr>\n",
       "    <tr>\n",
       "      <th>4</th>\n",
       "      <td>ATLÁNTICO</td>\n",
       "      <td>BARRANQUILLA (CT)</td>\n",
       "      <td>ARMA BLANCA / CORTOPUNZANTE</td>\n",
       "      <td>1/01/2010</td>\n",
       "      <td>FEMENINO</td>\n",
       "      <td>ADULTOS</td>\n",
       "      <td>LESIONES PERSONALES</td>\n",
       "      <td>2</td>\n",
       "    </tr>\n",
       "    <tr>\n",
       "      <th>5</th>\n",
       "      <td>ATLÁNTICO</td>\n",
       "      <td>BARRANQUILLA (CT)</td>\n",
       "      <td>ARMA BLANCA / CORTOPUNZANTE</td>\n",
       "      <td>1/01/2010</td>\n",
       "      <td>MASCULINO</td>\n",
       "      <td>ADULTOS</td>\n",
       "      <td>LESIONES PERSONALES</td>\n",
       "      <td>5</td>\n",
       "    </tr>\n",
       "    <tr>\n",
       "      <th>6</th>\n",
       "      <td>ATLÁNTICO</td>\n",
       "      <td>GALAPA</td>\n",
       "      <td>ARMA BLANCA / CORTOPUNZANTE</td>\n",
       "      <td>1/01/2010</td>\n",
       "      <td>MASCULINO</td>\n",
       "      <td>ADULTOS</td>\n",
       "      <td>LESIONES PERSONALES</td>\n",
       "      <td>3</td>\n",
       "    </tr>\n",
       "    <tr>\n",
       "      <th>7</th>\n",
       "      <td>ATLÁNTICO</td>\n",
       "      <td>SOLEDAD</td>\n",
       "      <td>ARMA BLANCA / CORTOPUNZANTE</td>\n",
       "      <td>1/01/2010</td>\n",
       "      <td>MASCULINO</td>\n",
       "      <td>ADULTOS</td>\n",
       "      <td>LESIONES PERSONALES</td>\n",
       "      <td>1</td>\n",
       "    </tr>\n",
       "    <tr>\n",
       "      <th>8</th>\n",
       "      <td>BOLÍVAR</td>\n",
       "      <td>CARTAGENA (CT)</td>\n",
       "      <td>ARMA BLANCA / CORTOPUNZANTE</td>\n",
       "      <td>1/01/2010</td>\n",
       "      <td>MASCULINO</td>\n",
       "      <td>ADULTOS</td>\n",
       "      <td>LESIONES PERSONALES</td>\n",
       "      <td>4</td>\n",
       "    </tr>\n",
       "    <tr>\n",
       "      <th>9</th>\n",
       "      <td>BOYACÁ</td>\n",
       "      <td>SANTANA</td>\n",
       "      <td>ARMA BLANCA / CORTOPUNZANTE</td>\n",
       "      <td>1/01/2010</td>\n",
       "      <td>MASCULINO</td>\n",
       "      <td>ADULTOS</td>\n",
       "      <td>LESIONES PERSONALES</td>\n",
       "      <td>1</td>\n",
       "    </tr>\n",
       "  </tbody>\n",
       "</table>\n",
       "</div>"
      ],
      "text/plain": [
       "  DEPARTAMENTO          MUNICIPIO                 ARMAS MEDIOS FECHA HECHO  \\\n",
       "0    ANTIOQUIA          GIRARDOTA  ARMA BLANCA / CORTOPUNZANTE   1/01/2010   \n",
       "1    ANTIOQUIA          GIRARDOTA  ARMA BLANCA / CORTOPUNZANTE   1/01/2010   \n",
       "2    ANTIOQUIA             MUTATÁ  ARMA BLANCA / CORTOPUNZANTE   1/01/2010   \n",
       "3    ANTIOQUIA            NECOCLÍ  ARMA BLANCA / CORTOPUNZANTE   1/01/2010   \n",
       "4    ATLÁNTICO  BARRANQUILLA (CT)  ARMA BLANCA / CORTOPUNZANTE   1/01/2010   \n",
       "5    ATLÁNTICO  BARRANQUILLA (CT)  ARMA BLANCA / CORTOPUNZANTE   1/01/2010   \n",
       "6    ATLÁNTICO             GALAPA  ARMA BLANCA / CORTOPUNZANTE   1/01/2010   \n",
       "7    ATLÁNTICO            SOLEDAD  ARMA BLANCA / CORTOPUNZANTE   1/01/2010   \n",
       "8      BOLÍVAR     CARTAGENA (CT)  ARMA BLANCA / CORTOPUNZANTE   1/01/2010   \n",
       "9       BOYACÁ            SANTANA  ARMA BLANCA / CORTOPUNZANTE   1/01/2010   \n",
       "\n",
       "      GENERO GRUPO ETARIO DESCRIPCIÓN CONDUCTA  CANTIDAD  \n",
       "0   FEMENINO      ADULTOS  LESIONES PERSONALES         2  \n",
       "1  MASCULINO      ADULTOS  LESIONES PERSONALES         1  \n",
       "2  MASCULINO      ADULTOS  LESIONES PERSONALES         1  \n",
       "3   FEMENINO      ADULTOS  LESIONES PERSONALES         1  \n",
       "4   FEMENINO      ADULTOS  LESIONES PERSONALES         2  \n",
       "5  MASCULINO      ADULTOS  LESIONES PERSONALES         5  \n",
       "6  MASCULINO      ADULTOS  LESIONES PERSONALES         3  \n",
       "7  MASCULINO      ADULTOS  LESIONES PERSONALES         1  \n",
       "8  MASCULINO      ADULTOS  LESIONES PERSONALES         4  \n",
       "9  MASCULINO      ADULTOS  LESIONES PERSONALES         1  "
      ]
     },
     "execution_count": 26,
     "metadata": {},
     "output_type": "execute_result"
    }
   ],
   "source": [
    "#Eliminar la columna \"Codigo dane\" pues no me está aportando información sobre los datos\n",
    "df.drop('CODIGO DANE', axis=1, inplace=True)\n",
    "df.head(10)"
   ]
  },
  {
   "cell_type": "code",
   "execution_count": 27,
   "id": "887f948b",
   "metadata": {},
   "outputs": [
    {
     "data": {
      "text/plain": [
       "DEPARTAMENTO                    object\n",
       "MUNICIPIO                       object\n",
       "ARMAS MEDIOS                    object\n",
       "FECHA HECHO             datetime64[ns]\n",
       "GENERO                          object\n",
       "GRUPO ETARIO                    object\n",
       "DESCRIPCIÓN CONDUCTA            object\n",
       "CANTIDAD                         int64\n",
       "dtype: object"
      ]
     },
     "execution_count": 27,
     "metadata": {},
     "output_type": "execute_result"
    }
   ],
   "source": [
    "# Convertir el tipo de dato de la columna \"Fecha hecho\" a datetime\n",
    "df['FECHA HECHO'] = pd.to_datetime(df['FECHA HECHO'],  format=\"%d/%m/%Y\")\n",
    "df.dtypes"
   ]
  },
  {
   "cell_type": "code",
   "execution_count": 28,
   "id": "f021ef35",
   "metadata": {},
   "outputs": [
    {
     "name": "stdout",
     "output_type": "stream",
     "text": [
      "                    DEPARTAMENTO\n",
      "CUNDINAMARCA              127021\n",
      "VALLE                     116820\n",
      "ANTIOQUIA                 100158\n",
      "SANTANDER                  82688\n",
      "TOLIMA                     50181\n",
      "BOYACÁ                     45928\n",
      "ATLÁNTICO                  41672\n",
      "HUILA                      41280\n",
      "RISARALDA                  37767\n",
      "NARIÑO                     33942\n",
      "BOLÍVAR                    32221\n",
      "META                       31971\n",
      "CALDAS                     31819\n",
      "NORTE DE SANTANDER         29710\n",
      "CAUCA                      26705\n",
      "CÓRDOBA                    24041\n",
      "QUINDÍO                    21310\n",
      "SUCRE                      20310\n",
      "MAGDALENA                  19876\n",
      "CESAR                      18170\n",
      "CASANARE                   14654\n",
      "GUAJIRA                    12551\n",
      "CAQUETÁ                    11094\n",
      "ARAUCA                      7436\n",
      "CHOCÓ                       7392\n",
      "PUTUMAYO                    4821\n",
      "SAN ANDRÉS                  4309\n",
      "AMAZONAS                    2790\n",
      "GUAVIARE                    1996\n",
      "VICHADA                     1072\n",
      "GUAINÍA                      866\n",
      "VAUPÉS                       671\n",
      "Departamento con mayor frecuencia de lesiones personales: DEPARTAMENTO    CUNDINAMARCA\n",
      "dtype: object\n",
      "Departamento con menor frecuencia de lesiones personales: DEPARTAMENTO    VAUPÉS\n",
      "dtype: object\n"
     ]
    },
    {
     "data": {
      "text/plain": [
       "<AxesSubplot:>"
      ]
     },
     "execution_count": 28,
     "metadata": {},
     "output_type": "execute_result"
    },
    {
     "data": {
      "image/png": "[encoded data removed]",
      "text/plain": [
       "<Figure size 432x288 with 1 Axes>"
      ]
     },
     "metadata": {
      "needs_background": "light"
     },
     "output_type": "display_data"
    }
   ],
   "source": [
    "# Análisis cualitativo de la columna departamento\n",
    "\n",
    "# Frecuencia absoluta de cada departamento\n",
    "department_frecuency = df[\"DEPARTAMENTO\"].value_counts().to_frame()\n",
    "print(department_frecuency)\n",
    "print(\"Departamento con mayor frecuencia de lesiones personales: \" +str(department_frecuency.idxmax(axis = 0)))\n",
    "print(\"Departamento con menor frecuencia de lesiones personales: \" +str(department_frecuency.idxmin(axis = 0)))\n",
    "\n",
    "#Imprimir gráfico de barras\n",
    "df[\"DEPARTAMENTO\"].value_counts().plot(kind = \"bar\")"
   ]
  },
  {
   "cell_type": "code",
   "execution_count": 29,
   "id": "57d87ea6",
   "metadata": {},
   "outputs": [
    {
     "name": "stdout",
     "output_type": "stream",
     "text": [
      "media: 2016-04-03\n",
      "fecha más reciente: 2010-01-01\n",
      "fecha más antigua: 2021-12-31\n"
     ]
    },
    {
     "data": {
      "image/png": "[encoded data removed]",
      "text/plain": [
       "<Figure size 432x288 with 1 Axes>"
      ]
     },
     "metadata": {
      "needs_background": "light"
     },
     "output_type": "display_data"
    },
    {
     "name": "stdout",
     "output_type": "stream",
     "text": [
      "Desviación estandar :1171 days 21:13:09.211072960\n"
     ]
    }
   ],
   "source": [
    "# Análisis cuantitativo de la columna fecha del hecho\n",
    "date_col = df[\"FECHA HECHO\"]\n",
    "mean = np.mean(date_col)\n",
    "print(\"media: \" + str(mean.date()))\n",
    "minimum = np.min(date_col)\n",
    "print(\"fecha más reciente: \" + str(minimum.date()))\n",
    "maximum = np.max(date_col)\n",
    "print(\"fecha más antigua: \" + str(maximum.date()))\n",
    "\n",
    "#Histograma por fecha de hecho\n",
    "plt.hist(date_col)\n",
    "plt.show()\n",
    "\n",
    "std_deviation = np.std(date_col)\n",
    "print(\"Desviación estandar :\" +str(std_deviation))"
   ]
  },
  {
   "cell_type": "code",
   "execution_count": 32,
   "id": "d4ff6b9d",
   "metadata": {},
   "outputs": [
    {
     "name": "stdout",
     "output_type": "stream",
     "text": [
      "            GENERO\n",
      "MASCULINO   566224\n",
      "FEMENINO    379972\n",
      "NO REPORTA     200\n",
      "-                7\n"
     ]
    },
    {
     "data": {
      "text/plain": [
       "array([<AxesSubplot:ylabel='GENERO'>], dtype=object)"
      ]
     },
     "execution_count": 32,
     "metadata": {},
     "output_type": "execute_result"
    },
    {
     "data": {
      "image/png": "[encoded data removed]",
      "text/plain": [
       "<Figure size 360x360 with 1 Axes>"
      ]
     },
     "metadata": {},
     "output_type": "display_data"
    }
   ],
   "source": [
    "# Análisis cualitativo de la columna Género\n",
    "\n",
    "# Frecuencia absoluta de cada genero\n",
    "gender_abs_frec = df[\"GENERO\"].value_counts().to_frame()\n",
    "print(gender_abs_frec)\n",
    "\n",
    "#Gráfica circular\n",
    "gender_abs_frec.plot.pie(subplots=True, figsize=(5, 5), autopct='%1.1f%%')"
   ]
  },
  {
   "cell_type": "code",
   "execution_count": 42,
   "id": "1ba348b3",
   "metadata": {},
   "outputs": [
    {
     "name": "stdout",
     "output_type": "stream",
     "text": [
      "              GRUPO ETARIO\n",
      "ADULTOS             815393\n",
      "ADOLESCENTES         91361\n",
      "MENORES              38604\n",
      "NO REPORTA              81\n"
     ]
    },
    {
     "data": {
      "text/plain": [
       "<AxesSubplot:>"
      ]
     },
     "execution_count": 42,
     "metadata": {},
     "output_type": "execute_result"
    },
    {
     "data": {
      "image/png": "[encoded data removed]",
      "text/plain": [
       "<Figure size 432x288 with 1 Axes>"
      ]
     },
     "metadata": {
      "needs_background": "light"
     },
     "output_type": "display_data"
    }
   ],
   "source": [
    "# Análisis cualitativo de grupo etario\n",
    "\n",
    "# Frecuencia absoluta de cada grupo dentro de la población\n",
    "\n",
    "group_frecuency = df[\"GRUPO ETARIO\"].value_counts().to_frame()\n",
    "print(group_frecuency)\n",
    "\n",
    "#Imprimir gráfico de barras\n",
    "df[\"GRUPO ETARIO\"].value_counts().plot(kind = \"bar\")"
   ]
  },
  {
   "cell_type": "code",
   "execution_count": 36,
   "id": "55164242",
   "metadata": {},
   "outputs": [
    {
     "name": "stdout",
     "output_type": "stream",
     "text": [
      "                                    ARMAS MEDIOS\n",
      "CONTUNDENTES                              347985\n",
      "ARMA BLANCA / CORTOPUNZANTE               240849\n",
      "VEHICULO                                  156072\n",
      "MOTO                                      106563\n",
      "ARMA DE FUEGO                              43021\n",
      "SIN EMPLEO DE ARMAS                        41021\n",
      "NO REPORTA                                 37297\n",
      "ACIDO                                      13294\n",
      "PUNZANTES                                   4985\n",
      "BICICLETA                                   2288\n",
      "PERRO                                       1873\n",
      "ARTEFACTO EXPLOSIVO/CARGA DINAMITA          1047\n",
      "NO REPORTADO                                 831\n",
      "GRANADA DE MANO                              688\n",
      "ESCOPOLAMINA                                 658\n",
      "COMBUSTIBLE                                  646\n",
      "MINA ANTIPERSONA                             542\n",
      "AGUA CALIENTE                                441\n",
      "ARMA TRAUMATICA                              381\n",
      "QUIMICOS                                     284\n",
      "SUSTANCIAS TOXICAS                           248\n",
      "CUCHILLA                                     242\n",
      "POLVORA(FUEGOS PIROTECNICOS)                 233\n",
      "CINTAS/CINTURON                              231\n",
      "GASES                                        219\n",
      "MEDICAMENTOS                                 202\n",
      "JERINGA                                      151\n",
      "CARRO BOMBA                                  145\n",
      "DIRECTA                                      124\n",
      "ARTEFACTO INCENDIARIO                         98\n",
      "PAPA EXPLOSIVA                                95\n",
      "-                                             82\n",
      "PRENDAS DE VESTIR                             81\n",
      "ALUCINOGENOS                                  71\n",
      "VENENO                                        62\n",
      "PAQUETE BOMBA                                 47\n",
      "ALMOHADA                                      37\n",
      "ALIMENTOS VENCIDOS                            37\n",
      "LICOR ADULTERADO                              31\n",
      "BOLSA PLASTICA                                15\n",
      "OLLA BOMBA                                    12\n",
      "ARMAS BLANCAS                                  7\n",
      "CILINDRO BOMBA                                 3\n",
      "CORTANTES                                      2\n",
      "CINTURON BOMBA                                 1\n"
     ]
    },
    {
     "data": {
      "text/plain": [
       "<AxesSubplot:>"
      ]
     },
     "execution_count": 36,
     "metadata": {},
     "output_type": "execute_result"
    },
    {
     "data": {
      "image/png": "[encoded data removed]",
      "text/plain": [
       "<Figure size 432x288 with 1 Axes>"
      ]
     },
     "metadata": {
      "needs_background": "light"
     },
     "output_type": "display_data"
    }
   ],
   "source": [
    "# Análisis cualitativo de la columna Armas medios\n",
    "\n",
    "# Frecuencia absoluta de cada genero\n",
    "weap_abs_frec = df[\"ARMAS MEDIOS\"].value_counts().to_frame()\n",
    "print(weap_abs_frec)\n",
    "\n",
    "#Imprimir gráfico de barras\n",
    "df[\"ARMAS MEDIOS\"].value_counts().plot(kind = \"bar\")"
   ]
  },
  {
   "cell_type": "code",
   "execution_count": 37,
   "id": "ecd58baf",
   "metadata": {},
   "outputs": [
    {
     "name": "stdout",
     "output_type": "stream",
     "text": [
      "              DEPARTAMENTO\n",
      "CUNDINAMARCA        127021\n",
      "VALLE               116820\n",
      "ANTIOQUIA           100158\n"
     ]
    }
   ],
   "source": [
    "#¿Cuáles han sido los departamentos (TOP 3) más afectados a nivel histórico y en el último año?\n",
    "\n",
    "#Top 3 a nivel histórico\n",
    "department_frecuency = df[\"DEPARTAMENTO\"].value_counts().to_frame()\n",
    "print(department_frecuency.head(3))\n",
    "\n",
    "#Los depertamentos en los que más se han presentado lesiones personales son Cundinamarca, Valle y Antioquia"
   ]
  },
  {
   "cell_type": "code",
   "execution_count": 39,
   "id": "7ebe5499",
   "metadata": {},
   "outputs": [
    {
     "name": "stdout",
     "output_type": "stream",
     "text": [
      "                             ARMAS MEDIOS\n",
      "CONTUNDENTES                       347985\n",
      "ARMA BLANCA / CORTOPUNZANTE        240849\n",
      "VEHICULO                           156072\n",
      "MOTO                               106563\n",
      "ARMA DE FUEGO                       43021\n"
     ]
    }
   ],
   "source": [
    "#Para los casos en los que se disponga del detalle del delito o de una descripción, \n",
    "#como por ejemplo en delitos sexuales y secuestro, ¿cuáles son los delitos, descripciones o modalidades más comunes?\n",
    "\n",
    "#Modalidades más usadas\n",
    "print(weap_abs_frec.head(5))"
   ]
  },
  {
   "cell_type": "code",
   "execution_count": 41,
   "id": "4a92b622",
   "metadata": {},
   "outputs": [
    {
     "data": {
      "text/plain": [
       "array([<AxesSubplot:ylabel='GRUPO ETARIO'>], dtype=object)"
      ]
     },
     "execution_count": 41,
     "metadata": {},
     "output_type": "execute_result"
    },
    {
     "data": {
      "image/png": "[encoded data removed]",
      "text/plain": [
       "<Figure size 360x360 with 1 Axes>"
      ]
     },
     "metadata": {},
     "output_type": "display_data"
    },
    {
     "data": {
      "image/png": "[encoded data removed]",
      "text/plain": [
       "<Figure size 360x360 with 1 Axes>"
      ]
     },
     "metadata": {},
     "output_type": "display_data"
    }
   ],
   "source": [
    "#¿Cómo es la proporción de géneros y grupos etarios que han estado involucrados en este tipo de delito? \n",
    "#¿Han variado con el paso de los años?\n",
    "\n",
    "gender_abs_frec.plot.pie(subplots=True, figsize=(5, 5), autopct='%1.1f%%')\n",
    "group_frecuency.plot.pie(subplots=True, figsize=(5, 5), autopct='%1.1f%%')"
   ]
  },
  {
   "cell_type": "code",
   "execution_count": null,
   "id": "b9a27c2e",
   "metadata": {},
   "outputs": [],
   "source": []
  }
 ],
 "metadata": {
  "kernelspec": {
   "display_name": "Python 3 (ipykernel)",
   "language": "python",
   "name": "python3"
  },
  "language_info": {
   "codemirror_mode": {
    "name": "ipython",
    "version": 3
   },
   "file_extension": ".py",
   "mimetype": "text/x-python",
   "name": "python",
   "nbconvert_exporter": "python",
   "pygments_lexer": "ipython3",
   "version": "3.10.2"
  }
 },
 "nbformat": 4,
 "nbformat_minor": 5
}
